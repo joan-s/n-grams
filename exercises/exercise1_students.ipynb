{
  "cells": [
    {
      "cell_type": "code",
      "source": [
        "from tqdm import tqdm\n",
        "import nltk\n",
        "nltk.download('punkt')\n",
        "nltk.download('gutenberg')\n",
        "nltk.download('cess_cat')"
      ],
      "metadata": {
        "id": "OsV6sILlovc_"
      },
      "id": "OsV6sILlovc_",
      "execution_count": null,
      "outputs": []
    },
    {
      "cell_type": "markdown",
      "id": "1e662c74",
      "metadata": {
        "id": "1e662c74"
      },
      "source": [
        "Load a corpus in Catalan or English. The nltk corpora result from tokenizing and segmenting into sentences large collections of text.\n",
        "\n",
        "The ``gutenberg`` corpus comes from a set of English literature classics. The ``cess_cat`` corpus comes from https://www.cs.upc.edu/~nlp/wikicorpus/, the \"120 Million Word Spanish Corpus\" which has a subset in Catalan of 50 million words scrapped from Vikipedia in 2006."
      ]
    },
    {
      "cell_type": "code",
      "execution_count": null,
      "id": "1525dd55",
      "metadata": {
        "id": "1525dd55"
      },
      "outputs": [],
      "source": [
        "name_corpus = 'cess_cat'\n",
        "\n",
        "if name_corpus=='cess_cat':\n",
        "    from nltk.corpus import cess_cat as corpus\n",
        "    # clean the corpus of strange words\n",
        "    words = []\n",
        "    words_to_remove = ['*0*', '-Fpa-', '-Fpt-']\n",
        "    for w in tqdm(corpus.words()):\n",
        "        if w not in words_to_remove:\n",
        "            words.append(w)\n",
        "\n",
        "elif name_corpus=='gutenberg':\n",
        "    from nltk.corpus import gutenberg as corpus\n",
        "    print(corpus.fileids())\n",
        "    words = corpus.words()\n",
        "else:\n",
        "    assert False\n",
        "\n",
        "print('corpus {} : {} words, {} sentences'\n",
        "      .format(name_corpus, len(words), len(corpus.sents())))"
      ]
    },
    {
      "cell_type": "markdown",
      "id": "cd42b3ec",
      "metadata": {
        "id": "cd42b3ec"
      },
      "source": [
        "Build a language model from bigrams. A LM is just a dictionary\n",
        "with key = condition = one word, and value = ``FreqDist`` \n",
        "object = another dictionary with key = next word, value = number \n",
        "of occurrences.\n",
        "This is adapted from https://www.nltk.org/book/ch02.html, section 2.4\n"
      ]
    },
    {
      "cell_type": "code",
      "execution_count": null,
      "id": "a4ba30c3",
      "metadata": {
        "id": "a4ba30c3"
      },
      "outputs": [],
      "source": [
        "grams = list(nltk.bigrams(words))\n",
        "# also trigrams, ngrams, everygrams(max_len)\n",
        "cfd = nltk.ConditionalFreqDist(grams)\n",
        "print(cfd.conditions())\n",
        "for i in [100, 200, 300, 400]:\n",
        "    print(cfd.conditions()[i])\n",
        "    print(cfd[cfd.conditions()[i]].most_common())\n",
        "    print('--------------')\n",
        "\n",
        "if name_corpus == 'cess_cat':\n",
        "    freq_dist =cfd['Una']\n",
        "else:\n",
        "    freq_dist = cfd['The']\n",
        "\n",
        "print(freq_dist.items())\n",
        "print(freq_dist.max())\n",
        "print(list(freq_dist.elements()))"
      ]
    },
    {
      "cell_type": "markdown",
      "id": "f271edc2",
      "metadata": {
        "id": "f271edc2"
      },
      "source": [
        "Sample text from the language model"
      ]
    },
    {
      "cell_type": "code",
      "execution_count": null,
      "id": "0b536851",
      "metadata": {
        "id": "0b536851"
      },
      "outputs": [],
      "source": [
        "import random\n",
        "\n",
        "def sample_bigram_model(cfd_bigrams, last_word, num_words=15):\n",
        "    pass\n",
        "    # TODO\n",
        "\n",
        "\n",
        "if name_corpus=='cess_cat':\n",
        "    print(sample_bigram_model(cfd, 'El', 100))\n",
        "    print(sample_bigram_model(cfd, 'La', 100))\n",
        "    print(sample_bigram_model(cfd, 'Per', 100))\n",
        "else:\n",
        "    print(sample_bigram_model(cfd, 'The', 100))\n",
        "    print(sample_bigram_model(cfd, 'For', 100))"
      ]
    },
    {
      "cell_type": "markdown",
      "source": [
        "Extension of previous function to tri, 4... n-grams is long and complicated\n",
        "because conditions of cfd are not one word but lists of pairs, triplets, n-1 words. In addition, the probability of not finding the previous 2, 3..n\n",
        "generated words among the conditions (ngrams) is very high. So better rely\n",
        "on the ``lm`` package of nltk. It has also support for adding ``<s>``, ``</s>`` symbols to sentences (padding), different types of smoothing and backoff, and sampling text.\n",
        "\n",
        "Build a proper language model with support for ``<s>``, ``</s>``, smoothing, backoff, sampling and computation of perplexity. See how here\n",
        "https://www.nltk.org/api/nltk.lm.html"
      ],
      "metadata": {
        "id": "O4xuRzAqtfeZ"
      },
      "id": "O4xuRzAqtfeZ"
    },
    {
      "cell_type": "code",
      "execution_count": null,
      "id": "3bf4ae6e",
      "metadata": {
        "id": "3bf4ae6e"
      },
      "outputs": [],
      "source": [
        "if name_corpus=='cess_cat':\n",
        "    text = []\n",
        "    words_to_remove = ['*0*', '-Fpa-', '-Fpt-']\n",
        "    #for s in tqdm(corpus.sents()[:1000]): # debug or quickly train the network\n",
        "    for s in tqdm(corpus.sents()):\n",
        "        new_s = [w for w in s if w not in words_to_remove]\n",
        "        text.append(new_s[:-1]) # except ending point\n",
        "else:\n",
        "    text = []\n",
        "    for s in tqdm(corpus.sents()):\n",
        "        text.append(s[:-1]) # except ending point\n",
        "    \n",
        "from nltk.lm.preprocessing import padded_everygram_pipeline\n",
        "from nltk.lm.models import MLE, Laplace, StupidBackoff\n",
        "\n",
        "n = 3\n",
        "# TODO:\n",
        "# for each of the three types of language model in last import:\n",
        "#     for n=3, 4, 5 (tri-grams, 4-grams, 5-grams)\n",
        "#         create a model instance\n",
        "#         pad sentences in text\n",
        "#         train the model\n",
        "#         sample a text with 100 words\n",
        "# Hint: do like in ' '.join(['These', 'are', 'some', 'words'])\n",
        "#\n",
        "# Compare results, which combination seems more realistic ?\n"
      ]
    },
    {
      "cell_type": "code",
      "source": [],
      "metadata": {
        "id": "mJeniBAShcS7"
      },
      "id": "mJeniBAShcS7",
      "execution_count": null,
      "outputs": []
    }
  ],
  "metadata": {
    "kernelspec": {
      "display_name": "Python 3 (ipykernel)",
      "language": "python",
      "name": "python3"
    },
    "language_info": {
      "codemirror_mode": {
        "name": "ipython",
        "version": 3
      },
      "file_extension": ".py",
      "mimetype": "text/x-python",
      "name": "python",
      "nbconvert_exporter": "python",
      "pygments_lexer": "ipython3",
      "version": "3.10.8"
    },
    "colab": {
      "provenance": []
    }
  },
  "nbformat": 4,
  "nbformat_minor": 5
}